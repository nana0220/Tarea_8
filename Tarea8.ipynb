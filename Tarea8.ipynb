{
 "metadata": {
  "name": ""
 },
 "nbformat": 3,
 "nbformat_minor": 0,
 "worksheets": [
  {
   "cells": [
    {
     "cell_type": "code",
     "collapsed": false,
     "input": [
      "%pylab inline\n",
      "import random\n",
      "import numpy as np\n"
     ],
     "language": "python",
     "metadata": {},
     "outputs": [
      {
       "output_type": "stream",
       "stream": "stdout",
       "text": [
        "Populating the interactive namespace from numpy and matplotlib\n"
       ]
      },
      {
       "output_type": "stream",
       "stream": "stderr",
       "text": [
        "WARNING: pylab import has clobbered these variables: ['beta', 'random']\n",
        "`%pylab --no-import-all` prevents importing * from pylab and numpy\n"
       ]
      }
     ],
     "prompt_number": 28
    },
    {
     "cell_type": "code",
     "collapsed": false,
     "input": [
      "#Declaracion de constantes\n",
      "alfa=100*(random.random())\n",
      "So=100*random.random()\n",
      "Km1=100*random.random()\n",
      "beta=100*random.random()\n",
      "Km2=100*random.random()\n",
      "\n",
      "print alfa, So, Km1, beta, Km2"
     ],
     "language": "python",
     "metadata": {},
     "outputs": [
      {
       "output_type": "stream",
       "stream": "stdout",
       "text": [
        "67.3031379922 74.5142205425 34.3718066627 81.1217531673 84.5714186192\n"
       ]
      }
     ],
     "prompt_number": 67
    },
    {
     "cell_type": "code",
     "collapsed": false,
     "input": [
      "obs_data=loadtxt(\"dimer_observations.dat\")"
     ],
     "language": "python",
     "metadata": {},
     "outputs": [],
     "prompt_number": 68
    },
    {
     "cell_type": "code",
     "collapsed": false,
     "input": [
      "time_obs=obs_data[:,0]\n",
      "p_obs=obs_data[:,1]\n",
      "\n",
      "print time_obs,p_obs\n"
     ],
     "language": "python",
     "metadata": {},
     "outputs": [
      {
       "output_type": "stream",
       "stream": "stdout",
       "text": [
        "[  2.    2.5   3.5   5.    6.    7.    8.   10.   11.   12.   12.5  15.\n",
        "  16.   17.5  20.   21.   22.5  25.   30. ] [ 12.   21.   26.   34.   33.   30.   28.   26.   25.   23.   22.   21.\n",
        "  20.5  20.5  20.   19.   18.5  18.   17.7]\n"
       ]
      }
     ],
     "prompt_number": 69
    },
    {
     "cell_type": "code",
     "collapsed": false,
     "input": [
      "#runge kutta devuelve 2 arrays. P y T\n",
      "\n",
      "h=0.2\n",
      "n_points=int((10.0+h)/h)\n",
      "t=linspace(2,30,n_points)\n",
      "p=zeros(n_points)\n",
      "print t,p\n",
      "print n_points"
     ],
     "language": "python",
     "metadata": {},
     "outputs": [
      {
       "output_type": "stream",
       "stream": "stdout",
       "text": [
        "[  2.           2.57142857   3.14285714   3.71428571   4.28571429\n",
        "   4.85714286   5.42857143   6.           6.57142857   7.14285714\n",
        "   7.71428571   8.28571429   8.85714286   9.42857143  10.          10.57142857\n",
        "  11.14285714  11.71428571  12.28571429  12.85714286  13.42857143  14.\n",
        "  14.57142857  15.14285714  15.71428571  16.28571429  16.85714286\n",
        "  17.42857143  18.          18.57142857  19.14285714  19.71428571\n",
        "  20.28571429  20.85714286  21.42857143  22.          22.57142857\n",
        "  23.14285714  23.71428571  24.28571429  24.85714286  25.42857143  26.\n",
        "  26.57142857  27.14285714  27.71428571  28.28571429  28.85714286\n",
        "  29.42857143  30.        ] [ 0.  0.  0.  0.  0.  0.  0.  0.  0.  0.  0.  0.  0.  0.  0.  0.  0.  0.\n",
        "  0.  0.  0.  0.  0.  0.  0.  0.  0.  0.  0.  0.  0.  0.  0.  0.  0.  0.\n",
        "  0.  0.  0.  0.  0.  0.  0.  0.  0.  0.  0.  0.  0.  0.]\n",
        "50\n"
       ]
      }
     ],
     "prompt_number": 70
    },
    {
     "cell_type": "code",
     "collapsed": false,
     "input": [
      "def func_prime(alfa,So,Km1,Km2,beta,p,t):\n",
      "    return ((alfa*(So-p))/(Km1+So-p))-((beta*p)/(Km2+p))"
     ],
     "language": "python",
     "metadata": {},
     "outputs": [],
     "prompt_number": 71
    },
    {
     "cell_type": "code",
     "collapsed": false,
     "input": [
      "#Condiciones iniciales\n",
      "p[0]=12\n",
      "\n",
      "for i in range (1,n_points):\n",
      "    \n",
      "    k1 = func_prime(alfa,So,Km1,Km2,beta,p[i-1],t[i-1])\n",
      "    \n",
      "    #first step\n",
      "    p1 = p[i-1] + (h/2.0) * k1\n",
      "    k2 = func_prime(alfa,So,Km1,Km2,beta,p1,t[i])\n",
      "    \n",
      "    #second step\n",
      "    \n",
      "    p2 = p[i-1] + (h/2.0) * k2\n",
      "    k3 = func_prime(alfa,So,Km1,Km2,beta,p2,t[i])\n",
      "        \n",
      "    #third step\n",
      "    \n",
      "    p3 = p[i-1] + h * k3\n",
      "    k4 = func_prime(alfa,So,Km1,Km2,beta,p3, t[i])\n",
      "    \n",
      "    #fourth step\n",
      "    average_k = (1.0/6.0)*(k1 + 2.0*k2 + 2.0*k3 + k4)\n",
      "    \n",
      "    \n",
      "    p[i] = p[i-1] + h * average_k"
     ],
     "language": "python",
     "metadata": {},
     "outputs": [],
     "prompt_number": 72
    },
    {
     "cell_type": "code",
     "collapsed": false,
     "input": [
      "plot(t,p,'bo')\n",
      "plot(time_obs,p_obs,'yo')\n",
      "plt.xlabel('t')\n",
      "plt.ylabel('p(t)')\n",
      "\n"
     ],
     "language": "python",
     "metadata": {},
     "outputs": [
      {
       "metadata": {},
       "output_type": "pyout",
       "prompt_number": 74,
       "text": [
        "<matplotlib.text.Text at 0x41fea90>"
       ]
      },
      {
       "metadata": {},
       "output_type": "display_data",
       "png": "[encoded data removed]",
       "text": [
        "<matplotlib.figure.Figure at 0x3e6c150>"
       ]
      }
     ],
     "prompt_number": 74
    },
    {
     "cell_type": "code",
     "collapsed": false,
     "input": [
      "# t y p son arrays teoricos\n",
      "#time_obs y p_obs son arrays observado"
     ],
     "language": "python",
     "metadata": {},
     "outputs": [],
     "prompt_number": 52
    },
    {
     "cell_type": "code",
     "collapsed": false,
     "input": [
      "def likelihood(p_obs,p):\n",
      "    \n",
      "    for i in range (1,n_points):\n",
      "        \n",
      "        chi_squared=sum((p_obs[i]-p[i])**2)\n",
      "        \n",
      "    return exp(-chi_squared/2)\n"
     ],
     "language": "python",
     "metadata": {},
     "outputs": [],
     "prompt_number": 75
    },
    {
     "cell_type": "code",
     "collapsed": false,
     "input": [],
     "language": "python",
     "metadata": {},
     "outputs": [],
     "prompt_number": 56
    },
    {
     "cell_type": "code",
     "collapsed": false,
     "input": [],
     "language": "python",
     "metadata": {},
     "outputs": []
    }
   ],
   "metadata": {}
  }
 ]
}