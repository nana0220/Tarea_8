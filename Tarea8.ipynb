{
 "metadata": {
  "name": ""
 },
 "nbformat": 3,
 "nbformat_minor": 0,
 "worksheets": [
  {
   "cells": [
    {
     "cell_type": "code",
     "collapsed": false,
     "input": [
      "%pylab inline\n",
      "import random\n",
      "import numpy as np\n"
     ],
     "language": "python",
     "metadata": {},
     "outputs": [
      {
       "output_type": "stream",
       "stream": "stdout",
       "text": [
        "Populating the interactive namespace from numpy and matplotlib\n"
       ]
      }
     ],
     "prompt_number": 1
    },
    {
     "cell_type": "code",
     "collapsed": false,
     "input": [
      "obs_data=loadtxt(\"dimer_observations.dat\")"
     ],
     "language": "python",
     "metadata": {},
     "outputs": [],
     "prompt_number": 2
    },
    {
     "cell_type": "code",
     "collapsed": false,
     "input": [
      "time_obs=obs_data[:,0]\n",
      "p_obs=obs_data[:,1]\n",
      "n=size(time_obs)\n",
      "print n\n",
      "scatter(time_obs, p_obs)"
     ],
     "language": "python",
     "metadata": {},
     "outputs": [
      {
       "output_type": "stream",
       "stream": "stdout",
       "text": [
        "19\n"
       ]
      },
      {
       "metadata": {},
       "output_type": "pyout",
       "prompt_number": 8,
       "text": [
        "<matplotlib.collections.PathCollection at 0x3eaa2d0>"
       ]
      },
      {
       "metadata": {},
       "output_type": "display_data",
       "png": "[encoded data removed]",
       "text": [
        "<matplotlib.figure.Figure at 0x3a8e8d0>"
       ]
      }
     ],
     "prompt_number": 8
    },
    {
     "cell_type": "code",
     "collapsed": false,
     "input": [
      "#definicion de la funcion likelihood\n",
      "def likelihood(p_obs,p_modelo):\n",
      "    chi_squared=sum((p_obs-p_modelo)**2)\n",
      "    return exp(-chi_squared/2)"
     ],
     "language": "python",
     "metadata": {},
     "outputs": [],
     "prompt_number": 9
    },
    {
     "cell_type": "code",
     "collapsed": false,
     "input": [
      "#Funcion para llevar a cabo el runge kutta de la funcion modelo\n",
      "def func_prime(alfa,So,Km1,Km2,beta,p,t):\n",
      "    return ((alfa*(So-p))/(Km1+So-p))-((beta*p)/(Km2+p))"
     ],
     "language": "python",
     "metadata": {},
     "outputs": [],
     "prompt_number": 10
    },
    {
     "cell_type": "code",
     "collapsed": false,
     "input": [
      "#runge kutta devuelve el array de P o puntos si no se realiza la iteracion.\n",
      "\n",
      "def modelo(time_obs,alfa,beta,Km1,Km2,So):\n",
      "    h=0.01\n",
      "    n_points=((30-2)*100)+1\n",
      "    t=linspace(2,30,n_points)\n",
      "    p=zeros(n_points)\n",
      "    \n",
      "\n",
      "    #Condiciones iniciales\n",
      "    p[0]=12\n",
      "\n",
      "    for i in range (1,n_points):\n",
      "    \n",
      "        k1 = func_prime(alfa,So,Km1,Km2,beta,p[i-1],t[i-1])\n",
      "    \n",
      "        #first step\n",
      "        p1 = p[i-1] + (h/2.0) * k1\n",
      "        k2 = func_prime(alfa,So,Km1,Km2,beta,p1,t[i])\n",
      "    \n",
      "        #second step\n",
      "        \n",
      "        p2 = p[i-1] + (h/2.0) * k2\n",
      "        k3 = func_prime(alfa,So,Km1,Km2,beta,p2,t[i])\n",
      "        \n",
      "        #third step\n",
      "    \n",
      "        p3 = p[i-1] + h * k3\n",
      "        k4 = func_prime(alfa,So,Km1,Km2,beta,p3, t[i])\n",
      "    \n",
      "        #fourth step\n",
      "        average_k = (1.0/6.0)*(k1 + 2.0*k2 + 2.0*k3 + k4)\n",
      "    \n",
      "    \n",
      "        p[i] = p[i-1] + h * average_k\n",
      "        \n",
      "        \n",
      "    return p"
     ],
     "language": "python",
     "metadata": {},
     "outputs": [],
     "prompt_number": 11
    },
    {
     "cell_type": "code",
     "collapsed": false,
     "input": [
      "a= [4.87241682, 8.46961872, 1.71617059,4.62476464 ,9.6167516]\n",
      "n_points=((30-2)*100)+1\n",
      "t=linspace(2,30,n_points)\n",
      "p1=modelo(time_obs,a[0],a[1],a[2],a[3],a[4])\n",
      "print p1 ,size(p1) ,size(t)\n",
      "\n",
      "scatter(t,p1)\n"
     ],
     "language": "python",
     "metadata": {},
     "outputs": [
      {
       "output_type": "stream",
       "stream": "stdout",
       "text": [
        "[ 12.          12.10379244  12.19365521 ...,  16.2040202   16.20402024\n",
        "  16.20402027] 2801 2801\n"
       ]
      },
      {
       "metadata": {},
       "output_type": "pyout",
       "prompt_number": 12,
       "text": [
        "<matplotlib.collections.PathCollection at 0x419e890>"
       ]
      },
      {
       "metadata": {},
       "output_type": "display_data",
       "png": "[encoded data removed]",
       "text": [
        "<matplotlib.figure.Figure at 0x3e7cfd0>"
       ]
      }
     ],
     "prompt_number": 12
    },
    {
     "cell_type": "code",
     "collapsed": false,
     "input": [
      "#Lista para diferentes valores de las constantes\n",
      "alfa_walk = empty((0))\n",
      "beta_walk = empty((0))\n",
      "Km1_walk = empty((0))\n",
      "Km2_walk = empty((0))\n",
      "So_walk = empty((0))\n",
      "\n",
      "alfa_walk = append(alfa_walk, (random.random()*10))\n",
      "beta_walk = append(beta_walk, (random.random()*10))\n",
      "Km1_walk = append(Km1_walk, (random.random()*10))\n",
      "Km2_walk = append(Km2_walk, (random.random()*10))\n",
      "So_walk = append(So_walk, (random.random()*10))\n",
      "\n",
      "print alfa_walk, beta_walk, Km1_walk, Km2_walk, So_walk, n"
     ],
     "language": "python",
     "metadata": {},
     "outputs": [
      {
       "output_type": "stream",
       "stream": "stdout",
       "text": [
        "[ 5.84460193] [ 5.12880177] [ 3.11562079] [ 8.34267055] [ 3.79885078] 19\n"
       ]
      }
     ],
     "prompt_number": 13
    },
    {
     "cell_type": "code",
     "collapsed": false,
     "input": [
      "#Algorithm\n",
      "n_iteraciones=20000\n",
      "n_points=57\n",
      "t=linspace(2,30,n_points)\n",
      "for i in range(n_iteraciones):\n",
      "    alfa_prime = (np.random.normal(alfa_walk[i],0.1))\n",
      "    beta_prime = (np.random.normal(beta_walk[i],0.1))\n",
      "    Km1_prime = (np.random.normal(Km1_walk[i],0.1))\n",
      "    Km2_prime = (np.random.normal(Km2_walk[i],0.1))\n",
      "    So_prime = (np.random.normal(So_walk[i],0.1))\n",
      "    \n",
      "    p_init = modelo(time_obs, alfa_walk[i],beta_walk[i],Km1_walk[i], Km2_walk[i], So_walk[i])\n",
      "    p_prime= modelo(time_obs, alfa_prime,beta_prime,Km1_prime, Km2_prime, So_prime)\n",
      "    \n",
      "    \n",
      "    #Escoger los puntos que se midieron\n",
      "    p_init_fil= empty((0))\n",
      "    p_prime_fil=empty((0))\n",
      "    \n",
      "    #n:numero de observaciones\n",
      "    #n_points: numero de puntos resultantes del runge kutta\n",
      "    for j in range(n_points):\n",
      "        for k in range(n):\n",
      "            if(t[j]==time_obs[k]):\n",
      "                p_init_fil= append(p_init_fil, p_init[j])\n",
      "                p_prime_fil=append(p_prime_fil, p_prime[j])\n",
      "        \n",
      "    #Definicion de parametros alpha y betha para dar el paso o no paso\n",
      "    \n",
      "    alpha = likelihood(p_obs, p_prime_fil)/likelihood(p_obs, p_init_fil)\n",
      "    if (alpha>=1.0):\n",
      "        alfa_walk = append(alfa_walk, alfa_prime)\n",
      "        beta_walk = append(beta_walk, beta_prime)\n",
      "        Km1_walk = append(Km1_walk, Km1_prime)\n",
      "        Km2_walk = append(Km2_walk, Km2_prime)\n",
      "        So_walk = append(So_walk, So_prime)\n",
      "    else:\n",
      "        betha = random.random()\n",
      "        if(betha<=alpha):\n",
      "            alfa_walk = append(alfa_walk, alfa_prime)\n",
      "            beta_walk = append(beta_walk, beta_prime)\n",
      "            Km1_walk = append(Km1_walk, Km1_prime)\n",
      "            Km2_walk = append(Km2_walk, Km2_prime)\n",
      "            So_walk = append(So_walk, So_prime)\n",
      "        else:\n",
      "            alfa_walk = append(alfa_walk, alfa_walk[i])\n",
      "            beta_walk = append(beta_walk, beta_walk[i])\n",
      "            Km1_walk = append(Km1_walk, Km1_walk[i])\n",
      "            Km2_walk = append(Km2_walk, Km2_walk[i])\n",
      "            So_walk = append(So_walk, So_walk[i])\n",
      "            \n",
      "            \n",
      "            \n",
      "       # print alpha,betha, size(p_init_fil), size(p_prime_fil), likelihood(p_obs,p_prime_fil), likelihood(p_obs,p_init_fil)"
     ],
     "language": "python",
     "metadata": {},
     "outputs": [],
     "prompt_number": "*"
    },
    {
     "cell_type": "code",
     "collapsed": false,
     "input": [
      "#scatter(alfa_walk, beta_walk)\n"
     ],
     "language": "python",
     "metadata": {},
     "outputs": [],
     "prompt_number": "*"
    },
    {
     "cell_type": "code",
     "collapsed": false,
     "input": [
      "scatter(Km1_walk, Km2_walk)"
     ],
     "language": "python",
     "metadata": {},
     "outputs": [
      {
       "output_type": "pyout",
       "prompt_number": 179,
       "text": [
        "<matplotlib.collections.PathCollection at 0x6ce1690>"
       ]
      },
      {
       "output_type": "display_data",
       "png": "[encoded data removed]"
      }
     ],
     "prompt_number": 179
    },
    {
     "cell_type": "code",
     "collapsed": false,
     "input": [
      "t=linspace(2,30,57)\n",
      "p=zeros(57)\n",
      "#print t, p\n",
      "\n"
     ],
     "language": "python",
     "metadata": {},
     "outputs": [
      {
       "output_type": "stream",
       "stream": "stdout",
       "text": [
        "[  2.    2.5   3.    3.5   4.    4.5   5.    5.5   6.    6.5   7.    7.5\n",
        "   8.    8.5   9.    9.5  10.   10.5  11.   11.5  12.   12.5  13.   13.5\n",
        "  14.   14.5  15.   15.5  16.   16.5  17.   17.5  18.   18.5  19.   19.5\n",
        "  20.   20.5  21.   21.5  22.   22.5  23.   23.5  24.   24.5  25.   25.5\n",
        "  26.   26.5  27.   27.5  28.   28.5  29.   29.5  30. ] [ 0.  0.  0.  0.  0.  0.  0.  0.  0.  0.  0.  0.  0.  0.  0.  0.  0.  0.\n",
        "  0.  0.  0.  0.  0.  0.  0.  0.  0.  0.  0.  0.  0.  0.  0.  0.  0.  0.\n",
        "  0.  0.  0.  0.  0.  0.  0.  0.  0.  0.  0.  0.  0.  0.  0.  0.  0.  0.\n",
        "  0.  0.  0.]\n"
       ]
      }
     ],
     "prompt_number": 160
    },
    {
     "cell_type": "code",
     "collapsed": false,
     "input": [
      "h=0.01\n",
      "n_points=((30-2)*100)+1\n",
      "t=linspace(2,30,n_points)"
     ],
     "language": "python",
     "metadata": {},
     "outputs": [],
     "prompt_number": 36
    },
    {
     "cell_type": "code",
     "collapsed": false,
     "input": [
      "print n_points\n",
      "print t\n",
      "print size (t)"
     ],
     "language": "python",
     "metadata": {},
     "outputs": [
      {
       "output_type": "stream",
       "stream": "stdout",
       "text": [
        "2801\n",
        "[  2.     2.01   2.02 ...,  29.98  29.99  30.  ]\n",
        "2801\n"
       ]
      }
     ],
     "prompt_number": 37
    },
    {
     "cell_type": "code",
     "collapsed": false,
     "input": [
      "average_alfa=average(alfa_walk)\n",
      "average_beta=average(beta_walk)\n",
      "average_So=average(So_walk)\n",
      "average_Km1=average(Km1_walk)\n",
      "average_Km2=average(Km2_walk)"
     ],
     "language": "python",
     "metadata": {},
     "outputs": []
    }
   ],
   "metadata": {}
  }
 ]
}