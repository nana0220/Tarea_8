{
 "metadata": {
  "name": "Tarea8"
 },
 "nbformat": 3,
 "nbformat_minor": 0,
 "worksheets": [
  {
   "cells": [
    {
     "cell_type": "code",
     "collapsed": false,
     "input": [
      "%pylab inline\n",
      "import random\n",
      "import numpy as np\n"
     ],
     "language": "python",
     "metadata": {},
     "outputs": [
      {
       "output_type": "stream",
       "stream": "stdout",
       "text": [
        "\n",
        "Welcome to pylab, a matplotlib-based Python environment [backend: module://IPython.zmq.pylab.backend_inline].\n",
        "For more information, type 'help(pylab)'.\n"
       ]
      }
     ],
     "prompt_number": 204
    },
    {
     "cell_type": "code",
     "collapsed": false,
     "input": [
      "obs_data=loadtxt(\"dimer_observations1.dat\")"
     ],
     "language": "python",
     "metadata": {},
     "outputs": [],
     "prompt_number": 205
    },
    {
     "cell_type": "code",
     "collapsed": false,
     "input": [
      "time_obs=obs_data[:,0]\n",
      "p_obs=obs_data[:,1]\n",
      "n=size(time_obs)\n",
      "print n\n",
      "scatter(time_obs, p_obs)"
     ],
     "language": "python",
     "metadata": {},
     "outputs": [
      {
       "output_type": "stream",
       "stream": "stdout",
       "text": [
        "16\n"
       ]
      },
      {
       "output_type": "pyout",
       "prompt_number": 206,
       "text": [
        "<matplotlib.collections.PathCollection at 0xa129310>"
       ]
      },
      {
       "output_type": "display_data",
       "png": "[encoded data removed]"
      }
     ],
     "prompt_number": 206
    },
    {
     "cell_type": "code",
     "collapsed": false,
     "input": [
      "#definicion de la funcion likelihood\n",
      "def likelihood(p_obs,p_modelo):\n",
      "    chi_squared=sum((p_obs-p_modelo)**2)\n",
      "    return chi_squared"
     ],
     "language": "python",
     "metadata": {},
     "outputs": [],
     "prompt_number": 207
    },
    {
     "cell_type": "code",
     "collapsed": false,
     "input": [
      "#Funcion para llevar a cabo el runge kutta de la funcion modelo\n",
      "def func_prime(alfa,So,Km1,Km2,beta,p,t):\n",
      "    return ((alfa*(So-p))/(Km1+So-p))-((beta*p)/(Km2+p))"
     ],
     "language": "python",
     "metadata": {},
     "outputs": [],
     "prompt_number": 208
    },
    {
     "cell_type": "code",
     "collapsed": false,
     "input": [
      "#runge kutta devuelve el array de P o puntos si no se realiza la iteracion.\n",
      "\n",
      "def modelo(time_obs,alfa,beta,Km1,Km2,So):\n",
      "    h=0.01\n",
      "    n_points=((30-5)*100)+1\n",
      "    t=linspace(5,30,n_points)\n",
      "    p=zeros(n_points)\n",
      "    \n",
      "\n",
      "    #Condiciones iniciales\n",
      "    p[0]=34\n",
      "\n",
      "    for i in range (1,n_points):\n",
      "    \n",
      "        k1 = func_prime(alfa,So,Km1,Km2,beta,p[i-1],t[i-1])\n",
      "    \n",
      "        #first step\n",
      "        p1 = p[i-1] + (h/2.0) * k1\n",
      "        k2 = func_prime(alfa,So,Km1,Km2,beta,p1,t[i])\n",
      "    \n",
      "        #second step\n",
      "        \n",
      "        p2 = p[i-1] + (h/2.0) * k2\n",
      "        k3 = func_prime(alfa,So,Km1,Km2,beta,p2,t[i])\n",
      "        \n",
      "        #third step\n",
      "    \n",
      "        p3 = p[i-1] + h * k3\n",
      "        k4 = func_prime(alfa,So,Km1,Km2,beta,p3, t[i])\n",
      "    \n",
      "        #fourth step\n",
      "        average_k = (1.0/6.0)*(k1 + 2.0*k2 + 2.0*k3 + k4)\n",
      "    \n",
      "    \n",
      "        p[i] = p[i-1] + h * average_k\n",
      "        \n",
      "        \n",
      "    return p"
     ],
     "language": "python",
     "metadata": {},
     "outputs": [],
     "prompt_number": 209
    },
    {
     "cell_type": "code",
     "collapsed": false,
     "input": [
      "#PRUEBA DEL RUNGE KUTTA\n",
      "h=0.01\n",
      "a= [4.87241682, 8.46961872, 1.71617059,4.62476464 ,9.6167516]\n",
      "n_points=((30-5)*100)+1\n",
      "t=linspace(5,30,n_points)\n",
      "p1=modelo(time_obs,a[0],a[1],a[2],a[3],a[4])\n",
      "print p1 ,size(p1) ,size(t)\n",
      "\n",
      "scatter(t,p1)\n",
      "\n"
     ],
     "language": "python",
     "metadata": {},
     "outputs": [
      {
       "output_type": "stream",
       "stream": "stdout",
       "text": [
        "[ 34.          33.97786286  33.95573514 ...,  16.20838714  16.2083679\n",
        "  16.20834875] 2501 2501\n"
       ]
      },
      {
       "output_type": "pyout",
       "prompt_number": 210,
       "text": [
        "<matplotlib.collections.PathCollection at 0xa37f0d0>"
       ]
      },
      {
       "output_type": "display_data",
       "png": "[encoded data removed]"
      }
     ],
     "prompt_number": 210
    },
    {
     "cell_type": "code",
     "collapsed": false,
     "input": [
      "#Lista para diferentes valores de las constantes\n",
      "alfa_walk = empty((0))\n",
      "beta_walk = empty((0))\n",
      "Km1_walk = empty((0))\n",
      "Km2_walk = empty((0))\n",
      "So_walk = empty((0))\n",
      "\n",
      "alfa_walk = append(alfa_walk, np.random.normal(5,0.5))\n",
      "beta_walk = append(beta_walk, np.random.normal(10,0.5))\n",
      "Km1_walk = append(Km1_walk, np.random.normal(7,0.5))\n",
      "Km2_walk = append(Km2_walk, np.random.normal(14,0.5))\n",
      "So_walk = append(So_walk, np.random.normal(2,0.5))\n",
      "\n",
      "print alfa_walk, beta_walk, Km1_walk, Km2_walk, So_walk, n"
     ],
     "language": "python",
     "metadata": {},
     "outputs": [
      {
       "output_type": "stream",
       "stream": "stdout",
       "text": [
        "[ 4.98802391] [ 9.45164967] [ 7.08999215] [ 13.90951224] [ 1.99881633] 16\n"
       ]
      }
     ],
     "prompt_number": 211
    },
    {
     "cell_type": "code",
     "collapsed": false,
     "input": [
      "def filtrar(p_init,time_obs,t,n1):\n",
      "    p_init_fil=np.zeros(n1)\n",
      "    \n",
      "    for k in range(n1):\n",
      "        b=np.where(t==time_obs[k])\n",
      "        \n",
      "        \n",
      "        p_init_fil[k]= p_init[b]\n",
      "        \n",
      "    return p_init_fil\n",
      "    "
     ],
     "language": "python",
     "metadata": {},
     "outputs": [],
     "prompt_number": 212
    },
    {
     "cell_type": "code",
     "collapsed": false,
     "input": [
      "#Algorithm\n",
      "n_iteraciones=1000\n",
      "n_points=((30-5)*100)+1\n",
      "t=linspace(5,30,n_points)\n",
      "CHI=empty(0)\n",
      "for i in range(n_iteraciones):\n",
      "    alfa_prime = abs(np.random.normal(alfa_walk[i],0.1))\n",
      "    beta_prime = abs(np.random.normal(beta_walk[i],0.1))\n",
      "    Km1_prime = abs(np.random.normal(Km1_walk[i],0.1))\n",
      "    Km2_prime = abs(np.random.normal(Km2_walk[i],0.1))\n",
      "    So_prime = abs(np.random.normal(So_walk[i],0.1))\n",
      "    \n",
      "    p_init = modelo(time_obs, alfa_walk[i],beta_walk[i],Km1_walk[i], Km2_walk[i], So_walk[i])\n",
      "    p_prime= modelo(time_obs, alfa_prime,beta_prime,Km1_prime, Km2_prime, So_prime)\n",
      "    \n",
      "    #Escoger los puntos que se midieron\n",
      "    p_init_fil= filtrar(p_init, time_obs,t,n)\n",
      "    p_prime_fil=filtrar(p_prime, time_obs,t,n)\n",
      "    \n",
      "    \n",
      "    #n:numero de observaciones\n",
      "    #n_points: numero de puntos resultantes del runge kutta\n",
      "   \n",
      "    #Definicion de parametros alpha y betha para dar el paso o no paso\n",
      "    \n",
      "    alpha = likelihood(p_obs, p_prime_fil)-likelihood(p_obs, p_init_fil)\n",
      "    if (alpha<=0.0):\n",
      "        alfa_walk = append(alfa_walk, alfa_prime)\n",
      "        beta_walk = append(beta_walk, beta_prime)\n",
      "        Km1_walk = append(Km1_walk, Km1_prime)\n",
      "        Km2_walk = append(Km2_walk, Km2_prime)\n",
      "        So_walk = append(So_walk, So_prime)\n",
      "        CHI=append(CHI,likelihood(p_obs, p_prime_fil))\n",
      "    elif(alpha>0.0):\n",
      "        betha = random.random()\n",
      "        if(betha>=exp(alpha)):\n",
      "            alfa_walk = append(alfa_walk, alfa_prime)\n",
      "            beta_walk = append(beta_walk, beta_prime)\n",
      "            Km1_walk = append(Km1_walk, Km1_prime)\n",
      "            Km2_walk = append(Km2_walk, Km2_prime)\n",
      "            So_walk = append(So_walk, So_prime)\n",
      "            CHI=append(CHI,likelihood(p_obs, p_prime_fil))\n",
      "        else:\n",
      "            alfa_walk = append(alfa_walk, alfa_walk[i])\n",
      "            beta_walk = append(beta_walk, beta_walk[i])\n",
      "            Km1_walk = append(Km1_walk, Km1_walk[i])\n",
      "            Km2_walk = append(Km2_walk, Km2_walk[i])\n",
      "            So_walk = append(So_walk, So_walk[i])\n",
      "            CHI=append(CHI,likelihood(p_obs, p_init_fil))\n",
      "            \n",
      "            \n",
      "print alfa_walk[0], beta_walk[0], alfa_walk[20], beta_walk[20]"
     ],
     "language": "python",
     "metadata": {},
     "outputs": [
      {
       "output_type": "stream",
       "stream": "stdout",
       "text": [
        "4.98802391044 9.45164967241 4.07547717924 9.44943657602\n"
       ]
      }
     ],
     "prompt_number": 213
    },
    {
     "cell_type": "code",
     "collapsed": false,
     "input": [
      "#ENCONTRAR LA CURVA FINAL CON LAS CONSTANTES AJUSTADAS (PUNTO 3)\n",
      "\n",
      "\n",
      "# 1 el valor promedio de cada constante para que sea mas certero\n",
      "average_alfa=average(alfa_walk)\n",
      "average_beta=average(beta_walk)\n",
      "average_So=average(So_walk)\n",
      "average_Km1=average(Km1_walk)\n",
      "average_Km2=average(Km2_walk)\n",
      "\n",
      "# 2 Solucion final\n",
      "pfinal=modelo(time_obs,average_alfa,average_beta,average_Km1,average_Km2,average_So)\n",
      "print pfinal\n",
      "plot(t,pfinal)\n",
      "savefig(\"Solucion_final.png\")\n",
      "\n",
      "plot(time_obs,p_obs,\"ko\")\n"
     ],
     "language": "python",
     "metadata": {},
     "outputs": [
      {
       "output_type": "stream",
       "stream": "stdout",
       "text": [
        "[ 34.          33.97937922  33.95877428 ...,  18.42324694  18.42301769\n",
        "  18.42278897]\n"
       ]
      },
      {
       "output_type": "pyout",
       "prompt_number": 214,
       "text": [
        "[<matplotlib.lines.Line2D at 0xa43e850>]"
       ]
      },
      {
       "output_type": "display_data",
       "png": "[encoded data removed]"
      }
     ],
     "prompt_number": 214
    },
    {
     "cell_type": "code",
     "collapsed": false,
     "input": [
      "pfinal_fil=filtrar(pfinal,time_obs,t,n)\n",
      "chimin=likelihood(p_obs,pfinal_fil)\n",
      "print chimin"
     ],
     "language": "python",
     "metadata": {},
     "outputs": [
      {
       "output_type": "stream",
       "stream": "stdout",
       "text": [
        "4.79550538545\n"
       ]
      }
     ],
     "prompt_number": 215
    },
    {
     "cell_type": "heading",
     "level": 3,
     "metadata": {},
     "source": [
      "Grafica de alfa vs Km1, Km2, Beta, So:\n"
     ]
    },
    {
     "cell_type": "code",
     "collapsed": false,
     "input": [],
     "language": "python",
     "metadata": {},
     "outputs": [],
     "prompt_number": 143
    },
    {
     "cell_type": "heading",
     "level": 3,
     "metadata": {},
     "source": [
      "Graficas de beta vs Km1,Km2,So: "
     ]
    },
    {
     "cell_type": "code",
     "collapsed": false,
     "input": [],
     "language": "python",
     "metadata": {},
     "outputs": [],
     "prompt_number": 190
    },
    {
     "cell_type": "heading",
     "level": 3,
     "metadata": {},
     "source": [
      "Graficas de Km1 vs Km2,So"
     ]
    },
    {
     "cell_type": "code",
     "collapsed": false,
     "input": [],
     "language": "python",
     "metadata": {},
     "outputs": [],
     "prompt_number": 193
    },
    {
     "cell_type": "heading",
     "level": 3,
     "metadata": {},
     "source": [
      "Grafica de Km2 vs So"
     ]
    },
    {
     "cell_type": "code",
     "collapsed": false,
     "input": [],
     "language": "python",
     "metadata": {},
     "outputs": []
    }
   ],
   "metadata": {}
  }
 ]
}