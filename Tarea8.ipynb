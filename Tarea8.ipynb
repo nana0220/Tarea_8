{
 "metadata": {
  "name": "Tarea8"
 },
 "nbformat": 3,
 "nbformat_minor": 0,
 "worksheets": [
  {
   "cells": [
    {
     "cell_type": "code",
     "collapsed": false,
     "input": [
      "%pylab inline\n",
      "import random\n",
      "import numpy as np\n"
     ],
     "language": "python",
     "metadata": {},
     "outputs": [
      {
       "output_type": "stream",
       "stream": "stdout",
       "text": [
        "\n",
        "Welcome to pylab, a matplotlib-based Python environment [backend: module://IPython.zmq.pylab.backend_inline].\n",
        "For more information, type 'help(pylab)'.\n"
       ]
      }
     ],
     "prompt_number": 1
    },
    {
     "cell_type": "code",
     "collapsed": false,
     "input": [
      "obs_data=loadtxt(\"dimer_observations.dat\")"
     ],
     "language": "python",
     "metadata": {},
     "outputs": [],
     "prompt_number": 2
    },
    {
     "cell_type": "code",
     "collapsed": false,
     "input": [
      "time_obs=obs_data[:,0]\n",
      "p_obs=obs_data[:,1]\n",
      "n=size(time_obs)\n",
      "print n\n",
      "scatter(time_obs, p_obs)"
     ],
     "language": "python",
     "metadata": {},
     "outputs": [
      {
       "output_type": "stream",
       "stream": "stdout",
       "text": [
        "19\n"
       ]
      },
      {
       "output_type": "pyout",
       "prompt_number": 3,
       "text": [
        "<matplotlib.collections.PathCollection at 0x23c6bd0>"
       ]
      },
      {
       "output_type": "display_data",
       "png": "[encoded data removed]"
      }
     ],
     "prompt_number": 3
    },
    {
     "cell_type": "code",
     "collapsed": false,
     "input": [
      "def likelihood(p_obs,p_modelo):\n",
      "    chi_squared=sum((p_obs-p_modelo)**2)\n",
      "    return exp(-chi_squared/2)"
     ],
     "language": "python",
     "metadata": {},
     "outputs": [],
     "prompt_number": 4
    },
    {
     "cell_type": "code",
     "collapsed": false,
     "input": [
      "#Funcion para llevar a cao el runge kutta de la funcion modelo\n",
      "def func_prime(alfa,So,Km1,Km2,beta,p,t):\n",
      "    return ((alfa*(So-p))/(Km1+So-p))-((beta*p)/(Km2+p))"
     ],
     "language": "python",
     "metadata": {},
     "outputs": [],
     "prompt_number": 5
    },
    {
     "cell_type": "code",
     "collapsed": false,
     "input": [
      "#runge kutta devuelve el array de P o puntos si no se realiza la iteracion.\n",
      "\n",
      "def modelo(time_obs,alfa,beta,Km1,Km2,So):\n",
      "    h=0.01\n",
      "    n_points=((30-2)*100)+1\n",
      "    t=linspace(2,30,n_points)\n",
      "    p=zeros(n_points)\n",
      "    \n",
      "\n",
      "    #Condiciones iniciales\n",
      "    p[0]=12\n",
      "\n",
      "    for i in range (1,n_points):\n",
      "    \n",
      "        k1 = func_prime(alfa,So,Km1,Km2,beta,p[i-1],t[i-1])\n",
      "    \n",
      "        #first step\n",
      "        p1 = p[i-1] + (h/2.0) * k1\n",
      "        k2 = func_prime(alfa,So,Km1,Km2,beta,p1,t[i])\n",
      "    \n",
      "        #second step\n",
      "        \n",
      "        p2 = p[i-1] + (h/2.0) * k2\n",
      "        k3 = func_prime(alfa,So,Km1,Km2,beta,p2,t[i])\n",
      "        \n",
      "        #third step\n",
      "    \n",
      "        p3 = p[i-1] + h * k3\n",
      "        k4 = func_prime(alfa,So,Km1,Km2,beta,p3, t[i])\n",
      "    \n",
      "        #fourth step\n",
      "        average_k = (1.0/6.0)*(k1 + 2.0*k2 + 2.0*k3 + k4)\n",
      "    \n",
      "    \n",
      "        p[i] = p[i-1] + h * average_k\n",
      "        \n",
      "        \n",
      "    return p"
     ],
     "language": "python",
     "metadata": {},
     "outputs": [],
     "prompt_number": 43
    },
    {
     "cell_type": "code",
     "collapsed": false,
     "input": [
      "a= [4.87241682, 8.46961872, 1.71617059,4.62476464 ,9.6167516]\n",
      "n_points=((30-2)*100)+1\n",
      "t=linspace(2,30,n_points)\n",
      "p1=modelo(time_obs,a[0],a[1],a[2],a[3],a[4])\n",
      "print p1 ,size(p1) ,size(t)\n",
      "\n",
      "scatter(t,p1)\n"
     ],
     "language": "python",
     "metadata": {},
     "outputs": [
      {
       "output_type": "stream",
       "stream": "stdout",
       "text": [
        "[ 12.          12.10379244  12.19365521 ...,  16.2040202   16.20402024\n",
        "  16.20402027] 2801 2801\n"
       ]
      },
      {
       "output_type": "pyout",
       "prompt_number": 45,
       "text": [
        "<matplotlib.collections.PathCollection at 0x268ced0>"
       ]
      },
      {
       "output_type": "display_data",
       "png": "[encoded data removed]"
      }
     ],
     "prompt_number": 45
    },
    {
     "cell_type": "code",
     "collapsed": false,
     "input": [
      "#Lista para diferentes valores de las constantes\n",
      "alfa_walk = empty((0))\n",
      "beta_walk = empty((0))\n",
      "Km1_walk = empty((0))\n",
      "Km2_walk = empty((0))\n",
      "So_walk = empty((0))\n",
      "\n",
      "alfa_walk = append(alfa_walk, (random.random()*10))\n",
      "beta_walk = append(beta_walk, (random.random()*10))\n",
      "Km1_walk = append(Km1_walk, (random.random()*10))\n",
      "Km2_walk = append(Km2_walk, (random.random()*10))\n",
      "So_walk = append(So_walk, (random.random()*10))\n",
      "\n",
      "print alfa_walk, beta_walk, Km1_walk, Km2_walk, So_walk, n"
     ],
     "language": "python",
     "metadata": {},
     "outputs": [
      {
       "output_type": "stream",
       "stream": "stdout",
       "text": [
        "[ 4.87241682] [ 8.46961872] [ 1.71617059] [ 4.62476464] [ 9.6167516] 19\n"
       ]
      }
     ],
     "prompt_number": 10
    },
    {
     "cell_type": "code",
     "collapsed": false,
     "input": [
      "#Algorithm\n",
      "n_iteraciones=200\n",
      "n_points=57\n",
      "t=linspace(2,30,n_points)\n",
      "for i in range(n_iteraciones):\n",
      "    alfa_prime = (np.random.normal(alfa_walk[i],0.1))\n",
      "    beta_prime = (np.random.normal(beta_walk[i],0.1))\n",
      "    Km1_prime = (np.random.normal(Km1_walk[i],0.1))\n",
      "    Km2_prime = (np.random.normal(Km2_walk[i],0.1))\n",
      "    So_prime = (np.random.normal(So_walk[i],0.1))\n",
      "    \n",
      "    p_init = modelo(time_obs, alfa_walk[i],beta_walk[i],Km1_walk[i], Km2_walk[i], So_walk[i])\n",
      "    p_prime= modelo(time_obs, alfa_prime,beta_prime,Km1_prime, Km2_prime, So_prime)\n",
      "    \n",
      "    \n",
      "    #Escoger los puntos que se midieron\n",
      "    p_init_fil= empty((0))\n",
      "    p_prime_fil=empty((0))\n",
      "    \n",
      "    #n:numero de observaciones\n",
      "    #n_points: numero de puntos resultantes del runge kutta\n",
      "    for j in range(n_points):\n",
      "        for k in range(n):\n",
      "            if(t[j]==time_obs[k]):\n",
      "                p_init_fil= append(p_init_fil, p_init[j])\n",
      "                p_prime_fil=append(p_prime_fil, p_prime[j])\n",
      "        \n",
      "    #Definicion de parametros alpha y betha para dar el paso o no paso\n",
      "    \n",
      "    alpha = likelihood(p_obs, p_prime_fil)/likelihood(p_obs, p_init_fil)\n",
      "    if (alpha>=1.0):\n",
      "        alfa_walk = append(alfa_walk, alfa_prime)\n",
      "        beta_walk = append(beta_walk, beta_prime)\n",
      "        Km1_walk = append(Km1_walk, Km1_prime)\n",
      "        Km2_walk = append(Km2_walk, Km2_prime)\n",
      "        So_walk = append(So_walk, So_prime)\n",
      "    else:\n",
      "        betha = random.random()\n",
      "        if(betha<=alpha):\n",
      "            alfa_walk = append(alfa_walk, alfa_prime)\n",
      "            beta_walk = append(beta_walk, beta_prime)\n",
      "            Km1_walk = append(Km1_walk, Km1_prime)\n",
      "            Km2_walk = append(Km2_walk, Km2_prime)\n",
      "            So_walk = append(So_walk, So_prime)\n",
      "        else:\n",
      "            alfa_walk = append(alfa_walk, alfa_walk[i])\n",
      "            beta_walk = append(beta_walk, beta_walk[i])\n",
      "            Km1_walk = append(Km1_walk, Km1_walk[i])\n",
      "            Km2_walk = append(Km2_walk, Km2_walk[i])\n",
      "            So_walk = append(So_walk, So_walk[i])\n",
      "       # print alpha,betha, size(p_init_fil), size(p_prime_fil), likelihood(p_obs,p_prime_fil), likelihood(p_obs,p_init_fil)"
     ],
     "language": "python",
     "metadata": {},
     "outputs": [
      {
       "output_type": "stream",
       "stream": "stdout",
       "text": [
        "nan 0.995646955782 19 19 0.0 0.0\n",
        "nan 0.876332291376 19 19 0.0 0.0\n",
        "nan 0.823795980298 19 19 0.0 0.0\n",
        "nan 0.681525913117 19 19 0.0 0.0\n",
        "nan 0.123735495664 19 19 0.0 0.0\n",
        "nan 0.221674175581 19 19 0.0 0.0\n",
        "nan 0.0600312996193 19 19 0.0 0.0\n",
        "nan 0.28071787489 19 19 0.0 0.0\n",
        "nan 0.568341353386 19 19 0.0 0.0\n",
        "nan"
       ]
      },
      {
       "output_type": "stream",
       "stream": "stdout",
       "text": [
        " 0.0162700201186 19 19 0.0 0.0\n",
        "nan 0.252995687952 19 19 0.0 0.0\n",
        "nan 0.218896916301 19 19 0.0 0.0\n",
        "nan 0.133658651643 19 19 0.0 0.0\n",
        "nan 0.0310391628333 19 19 0.0 0.0\n",
        "nan 0.441330353358 19 19 0.0 0.0\n",
        "nan 0.687156811761 19 19 0.0 0.0\n",
        "nan 0.804517118297 19 19 0.0 0.0\n",
        "nan 0.213082741048 19 19 0.0 "
       ]
      },
      {
       "output_type": "stream",
       "stream": "stdout",
       "text": [
        "0.0\n",
        "nan 0.0789971491457 19 19 0.0 0.0\n",
        "nan 0.260772113848 19 19 0.0 0.0\n",
        "nan 0.714212187773 19 19 0.0 0.0\n",
        "nan 0.744187080988 19 19 0.0 0.0\n",
        "nan 0.573193493541 19 19 0.0 0.0\n",
        "nan 0.78420511172 19 19 0.0 0.0\n",
        "nan 0.508491592489 19 19 0.0 0.0\n",
        "nan 0.495383811458 19 19 0.0 0.0\n",
        "nan"
       ]
      },
      {
       "output_type": "stream",
       "stream": "stdout",
       "text": [
        " 0.386300601266 19 19 0.0 0.0\n",
        "nan 0.773307983472 19 19 0.0 0.0\n",
        "nan 0.12343499884 19 19 0.0 0.0\n",
        "nan 0.121485129664 19 19 0.0 0.0\n",
        "nan 0.507050594927 19 19 0.0 0.0\n",
        "nan 0.554882576813 19 19 0.0 0.0\n",
        "nan 0.763264063902 19 19 0.0 0.0\n",
        "nan 0.0848095922788 19 19 0.0 0.0\n",
        "nan 0.404577381825 19 19 0.0 0.0\n",
        "nan"
       ]
      },
      {
       "output_type": "stream",
       "stream": "stdout",
       "text": [
        " 0.478670997182 19 19 0.0 0.0\n",
        "nan 0.42003830863 19 19 0.0 0.0\n",
        "nan 0.319354914835 19 19 0.0 0.0\n",
        "nan 0.0376776956358 19 19 0.0 0.0\n",
        "nan 0.663172237584 19 19 0.0 0.0\n",
        "nan 0.375027165396 19 19 0.0 0.0\n",
        "nan 0.000932740811643 19 19 0.0 0.0\n",
        "nan 0.114178512112 19 19 0.0 0.0\n",
        "nan 0.183706742893 19 19 0.0 0.0\n",
        "nan 0.52933154527 19 19 0.0 0.0\n",
        "nan"
       ]
      },
      {
       "output_type": "stream",
       "stream": "stdout",
       "text": [
        " 0.696173186428 19 19 0.0 0.0\n",
        "nan 0.904142876804 19 19 0.0 0.0\n",
        "nan 0.853003953471 19 19 0.0 0.0\n",
        "nan 0.948027858106 19 19 0.0 0.0\n",
        "nan 0.131245554057 19 19 0.0 0.0\n",
        "nan 0.261951821571 19 19 0.0 0.0\n",
        "nan 0.237211820528 19 19 0.0 0.0\n",
        "nan 0.501726004433 19 19 0.0 0.0\n",
        "nan 0.82413165274 19 19 0.0 0.0\n",
        "nan 0.290939059535 19 19 0.0 0.0\n",
        "nan"
       ]
      },
      {
       "output_type": "stream",
       "stream": "stdout",
       "text": [
        " 0.258500315775 19 19 0.0 0.0\n",
        "nan 0.142014869083 19 19 0.0 0.0\n",
        "nan 0.776945325286 19 19 0.0 0.0\n",
        "nan 0.470507711881 19 19 0.0 0.0\n",
        "nan 0.311315926713 19 19 0.0 0.0\n",
        "nan 0.717572346488 19 19 0.0 0.0\n",
        "nan 0.495503457133 19 19 0.0 0.0\n",
        "nan 0.308402164482 19 19 0.0 0.0\n",
        "nan 0.412555510322 19 19 0.0 0.0\n",
        "nan 0.632172750289 19 19 0.0 0.0\n",
        "nan"
       ]
      },
      {
       "output_type": "stream",
       "stream": "stdout",
       "text": [
        " 0.710312535229 19 19 0.0 0.0\n",
        "nan 0.332505715758 19 19 0.0 0.0\n",
        "nan 0.284176820381 19 19 0.0 0.0\n",
        "nan 0.172614468924 19 19 0.0 0.0\n",
        "nan 0.707561790659 19 19 0.0 0.0\n",
        "nan 0.274021391552 19 19 0.0 0.0\n",
        "nan 0.16758433677 19 19 0.0 0.0\n",
        "nan 0.949558260988 19 19 0.0 0.0\n",
        "nan 0.129675881229 19 19 0.0 0.0\n",
        "nan 0.146224486562 19 19 0.0 0.0\n",
        "nan"
       ]
      },
      {
       "output_type": "stream",
       "stream": "stdout",
       "text": [
        " 0.255823225494 19 19 0.0 0.0\n",
        "nan 0.354852239422 19 19 0.0 0.0\n",
        "nan 0.491781295251 19 19 0.0 0.0\n",
        "nan 0.177956098047 19 19 0.0 0.0\n",
        "nan 0.762153921037 19 19 0.0 0.0\n",
        "nan 0.808698670006 19 19 0.0 0.0\n",
        "nan 0.621890308184 19 19 0.0 0.0\n",
        "nan 0.888977911455 19 19 0.0 0.0\n",
        "nan 0.585323790046 19 19 0.0 0.0\n",
        "nan"
       ]
      },
      {
       "output_type": "stream",
       "stream": "stdout",
       "text": [
        " 0.130664830823 19 19 0.0 0.0\n",
        "nan 0.859244175037 19 19 0.0 0.0\n",
        "nan 0.188786446992 19 19 0.0 0.0\n",
        "nan 0.654178420859 19 19 0.0 0.0\n",
        "nan 0.497100116697 19 19 0.0 0.0\n",
        "nan 0.869196740061 19 19 0.0 0.0\n",
        "nan 0.479396759229 19 19 0.0 0.0\n",
        "nan 0.125469640237 19 19 0.0 0.0\n",
        "nan 0.46196931834 19 19 0.0 0.0\n",
        "nan 0.952023343903 19 19 0.0 0.0\n",
        "nan"
       ]
      },
      {
       "output_type": "stream",
       "stream": "stdout",
       "text": [
        " 0.361395337003 19 19 0.0 0.0\n",
        "nan 0.176063563955 19 19 0.0 0.0\n",
        "nan 0.805899190293 19 19 0.0 0.0\n",
        "nan 0.34621047458 19 19 0.0 0.0\n",
        "nan 0.560833299901 19 19 0.0 0.0\n",
        "nan 0.828332609122 19 19 0.0 0.0\n",
        "nan 0.0885227406182 19 19 0.0 0.0\n",
        "nan 0.933659713116 19 19 0.0 0.0\n",
        "nan 0.391570946432 19 19 0.0 0.0\n",
        "nan 0.582092231611 19 19 0.0 0.0\n",
        "nan"
       ]
      },
      {
       "output_type": "stream",
       "stream": "stdout",
       "text": [
        " 0.890499575624 19 19 0.0 0.0\n",
        "nan 0.443866186275 19 19 0.0 0.0\n",
        "nan 0.12358838974 19 19 0.0 0.0\n",
        "nan 0.170125550344 19 19 0.0 0.0\n",
        "nan 0.72560294689 19 19 0.0 0.0\n",
        "nan 0.231619490241 19 19 0.0 0.0\n",
        "nan 0.451085476008 19 19 0.0 0.0\n",
        "nan 0.509608619478 19 19 0.0 0.0\n",
        "nan 0.565364933224 19 19 0.0 0.0\n",
        "nan 0.286349094029 19 19 0.0 0.0\n",
        "nan"
       ]
      },
      {
       "output_type": "stream",
       "stream": "stdout",
       "text": [
        " 0.0577169208154 19 19 0.0 0.0\n",
        "nan 0.88896331477 19 19 0.0 0.0\n",
        "nan 0.847778465081 19 19 0.0 0.0\n",
        "nan 0.302384549459 19 19 0.0 0.0\n",
        "nan 0.910682022438 19 19 0.0 0.0\n",
        "nan 0.193775269523 19 19 0.0 0.0\n",
        "nan 0.346189042978 19 19 0.0 0.0\n",
        "nan 0.54769334352 19 19 0.0 0.0\n",
        "nan 0.818221286848 19 19 0.0 0.0\n",
        "nan 0.657502960219 19 19 0.0 0.0\n",
        "nan"
       ]
      },
      {
       "output_type": "stream",
       "stream": "stdout",
       "text": [
        " 0.54184738051 19 19 0.0 0.0\n",
        "nan 0.289177928249 19 19 0.0 0.0\n",
        "nan 0.821657021672 19 19 0.0 0.0\n",
        "nan 0.29009956454 19 19 0.0 0.0\n",
        "nan 0.207872782095 19 19 0.0 0.0\n",
        "nan 0.651293267169 19 19 0.0 0.0\n",
        "nan 0.450398503797 19 19 0.0 0.0\n",
        "nan 0.062477004991 19 19 0.0 0.0\n",
        "nan 0.592679200271 19 19 0.0 0.0\n",
        "nan 0.934431134692 19 19 0.0 0.0\n",
        "nan"
       ]
      },
      {
       "output_type": "stream",
       "stream": "stdout",
       "text": [
        " 0.890039611343 19 19 0.0 0.0\n",
        "nan 0.259395413771 19 19 0.0 0.0\n",
        "nan 0.435263761801 19 19 0.0 0.0\n",
        "nan 0.73183580679 19 19 0.0 0.0\n",
        "nan 0.337338952711 19 19 0.0 0.0\n",
        "nan 0.0632010222827 19 19 0.0 0.0\n",
        "nan 0.579162268358 19 19 0.0 0.0\n",
        "nan 0.708867558852 19 19 0.0 0.0\n",
        "nan 0.516217051593 19 19 0.0 0.0\n",
        "nan 0.849536662671 19 19 0.0 0.0\n",
        "nan"
       ]
      },
      {
       "output_type": "stream",
       "stream": "stdout",
       "text": [
        " 0.6596668796 19 19 0.0 0.0\n",
        "nan 0.520390240151 19 19 0.0 0.0\n",
        "nan 0.464955313804 19 19 0.0 0.0\n",
        "nan 0.528749748005 19 19 0.0 0.0\n",
        "nan 0.490100471311 19 19 0.0 0.0\n",
        "nan 0.941372045845 19 19 0.0 0.0\n",
        "nan 0.573048185797 19 19 0.0 0.0\n",
        "nan 0.238305539574 19 19 0.0 0.0\n",
        "nan 0.54451433945 19 19 0.0 0.0\n",
        "nan 0.789282817426 19 19 0.0 0.0\n",
        "nan"
       ]
      },
      {
       "output_type": "stream",
       "stream": "stdout",
       "text": [
        " 0.398243173229 19 19 0.0 0.0\n",
        "nan 0.529716917734 19 19 0.0 0.0\n",
        "nan 0.114348581364 19 19 0.0 0.0\n",
        "nan 0.361507798692 19 19 0.0 0.0\n",
        "nan 0.41502647869 19 19 0.0 0.0\n",
        "nan 0.381785387317 19 19 0.0 0.0\n",
        "nan 0.362726265484 19 19 0.0 0.0\n",
        "nan 0.192017687534 19 19 0.0 0.0\n",
        "nan 0.931800944635 19 19 0.0 0.0\n",
        "nan 0.285861407492 19 19 0.0 0.0\n",
        "nan"
       ]
      },
      {
       "output_type": "stream",
       "stream": "stdout",
       "text": [
        " 0.413572223115 19 19 0.0 0.0\n",
        "nan 0.110491432006 19 19 0.0 0.0\n",
        "nan 0.970084046721 19 19 0.0 0.0\n",
        "nan 0.3411821171 19 19 0.0 0.0\n",
        "nan 0.404551455444 19 19 0.0 0.0\n",
        "nan 0.362554249858 19 19 0.0 0.0\n",
        "nan 0.354913134666 19 19 0.0 0.0\n",
        "nan 0.769092614543 19 19 0.0 0.0\n",
        "nan 0.982872354204 19 19 0.0 0.0\n",
        "nan 0.572530869052 19 19 0.0 0.0\n",
        "nan"
       ]
      },
      {
       "output_type": "stream",
       "stream": "stdout",
       "text": [
        " 0.727494298444 19 19 0.0 0.0\n",
        "nan 0.607911040045 19 19 0.0 0.0\n",
        "nan 0.448265485907 19 19 0.0 0.0\n",
        "nan 0.295033132401 19 19 0.0 0.0\n",
        "nan 0.459621920178 19 19 0.0 0.0\n",
        "nan 0.421453291076 19 19 0.0 0.0\n",
        "nan 0.648787864 19 19 0.0 0.0\n",
        "nan 0.608953181898 19 19 0.0 0.0\n",
        "nan 0.728876553513 19 19 0.0 0.0\n",
        "nan 0.705408135676 19 19 0.0 0.0\n",
        "nan"
       ]
      },
      {
       "output_type": "stream",
       "stream": "stdout",
       "text": [
        " 0.929533793402 19 19 0.0 0.0\n",
        "nan 0.0676965587661 19 19 0.0 0.0\n",
        "nan 0.567235566319 19 19 0.0 0.0\n",
        "nan 0.70231290635 19 19 0.0 0.0\n",
        "nan 0.812492153495 19 19 0.0 0.0\n",
        "nan 0.199242235883 19 19 0.0 0.0\n",
        "nan 0.496204856106 19 19 0.0 0.0\n",
        "nan 0.326979030619 19 19 0.0 0.0\n",
        "nan 0.400048443219 19 19 0.0 0.0\n",
        "nan 0.17277999845 19 19 0.0 0.0\n",
        "nan"
       ]
      },
      {
       "output_type": "stream",
       "stream": "stdout",
       "text": [
        " 0.284430493147 19 19 0.0 0.0\n",
        "nan 0.192607099654 19 19 0.0 0.0\n",
        "nan 0.551362907973 19 19 0.0 0.0\n",
        "nan 0.871292887119 19 19 0.0 0.0\n",
        "nan 0.114517927312 19 19 0.0 0.0\n",
        "nan 0.10651245894 19 19 0.0 0.0\n"
       ]
      }
     ],
     "prompt_number": 228
    },
    {
     "cell_type": "code",
     "collapsed": false,
     "input": [
      "scatter(alfa_walk, beta_walk)\n"
     ],
     "language": "python",
     "metadata": {},
     "outputs": [
      {
       "output_type": "pyout",
       "prompt_number": 225,
       "text": [
        "<matplotlib.collections.PathCollection at 0x7d7df90>"
       ]
      },
      {
       "output_type": "display_data",
       "png": "[encoded data removed]"
      }
     ],
     "prompt_number": 225
    },
    {
     "cell_type": "code",
     "collapsed": false,
     "input": [
      "scatter(Km1_walk, Km2_walk)"
     ],
     "language": "python",
     "metadata": {},
     "outputs": [
      {
       "output_type": "pyout",
       "prompt_number": 179,
       "text": [
        "<matplotlib.collections.PathCollection at 0x6ce1690>"
       ]
      },
      {
       "output_type": "display_data",
       "png": "[encoded data removed]"
      }
     ],
     "prompt_number": 179
    },
    {
     "cell_type": "code",
     "collapsed": false,
     "input": [
      "t=linspace(2,30,57)\n",
      "p=zeros(57)\n",
      "#print t, p\n",
      "\n"
     ],
     "language": "python",
     "metadata": {},
     "outputs": [
      {
       "output_type": "stream",
       "stream": "stdout",
       "text": [
        "[  2.    2.5   3.    3.5   4.    4.5   5.    5.5   6.    6.5   7.    7.5\n",
        "   8.    8.5   9.    9.5  10.   10.5  11.   11.5  12.   12.5  13.   13.5\n",
        "  14.   14.5  15.   15.5  16.   16.5  17.   17.5  18.   18.5  19.   19.5\n",
        "  20.   20.5  21.   21.5  22.   22.5  23.   23.5  24.   24.5  25.   25.5\n",
        "  26.   26.5  27.   27.5  28.   28.5  29.   29.5  30. ] [ 0.  0.  0.  0.  0.  0.  0.  0.  0.  0.  0.  0.  0.  0.  0.  0.  0.  0.\n",
        "  0.  0.  0.  0.  0.  0.  0.  0.  0.  0.  0.  0.  0.  0.  0.  0.  0.  0.\n",
        "  0.  0.  0.  0.  0.  0.  0.  0.  0.  0.  0.  0.  0.  0.  0.  0.  0.  0.\n",
        "  0.  0.  0.]\n"
       ]
      }
     ],
     "prompt_number": 160
    },
    {
     "cell_type": "code",
     "collapsed": false,
     "input": [
      "h=0.01\n",
      "n_points=((30-2)*100)+1\n",
      "t=linspace(2,30,n_points)"
     ],
     "language": "python",
     "metadata": {},
     "outputs": [],
     "prompt_number": 36
    },
    {
     "cell_type": "code",
     "collapsed": false,
     "input": [
      "print n_points\n",
      "print t\n",
      "print size (t)"
     ],
     "language": "python",
     "metadata": {},
     "outputs": [
      {
       "output_type": "stream",
       "stream": "stdout",
       "text": [
        "2801\n",
        "[  2.     2.01   2.02 ...,  29.98  29.99  30.  ]\n",
        "2801\n"
       ]
      }
     ],
     "prompt_number": 37
    },
    {
     "cell_type": "code",
     "collapsed": false,
     "input": [],
     "language": "python",
     "metadata": {},
     "outputs": []
    }
   ],
   "metadata": {}
  }
 ]
}